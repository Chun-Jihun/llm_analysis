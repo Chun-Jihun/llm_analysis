{
 "cells": [
  {
   "cell_type": "code",
   "execution_count": null,
   "metadata": {},
   "outputs": [],
   "source": [
    "#필요한 설치 라이브러리\n",
    "#!pip install -q -U google-genai\n",
    "#!pip install -U langchain-google-genai\n",
    "#!pip install python-dotenv"
   ]
  },
  {
   "cell_type": "markdown",
   "metadata": {},
   "source": [
    "## .env파일에 gemini api를 작성하고, load_dotenv로 불러와 api키 노출 안할 것"
   ]
  },
  {
   "cell_type": "code",
   "execution_count": null,
   "metadata": {},
   "outputs": [],
   "source": [
    "import os\n",
    "from google import genai\n",
    "from dotenv import load_dotenv\n",
    "from langchain_google_genai import ChatGoogleGenerativeAI\n",
    "from langchain.prompts.chat import (\n",
    "    ChatPromptTemplate,\n",
    "    SystemMessagePromptTemplate,\n",
    "    HumanMessagePromptTemplate,\n",
    ")"
   ]
  },
  {
   "cell_type": "code",
   "execution_count": 6,
   "metadata": {},
   "outputs": [],
   "source": [
    "# gemini API 로드 및 사용할 gemini모델 정의\n",
    "load_dotenv()\n",
    "API_KEY = os.getenv('GEMINI_API')\n",
    "model = 'gemini-2.0-flash'"
   ]
  },
  {
   "cell_type": "code",
   "execution_count": 12,
   "metadata": {},
   "outputs": [],
   "source": [
    "# 모델 로드 \n",
    "llm = ChatGoogleGenerativeAI(\n",
    "    google_api_key = API_KEY,\n",
    "    model=model,\n",
    "    temperature = 0\n",
    "    )"
   ]
  },
  {
   "cell_type": "code",
   "execution_count": 14,
   "metadata": {},
   "outputs": [
    {
     "name": "stdout",
     "output_type": "stream",
     "text": [
      "LLM(대규모 언어 모델)은 방대한 텍스트 데이터를 학습하여 단어 간의 관계를 파악하고, 이를 바탕으로 다음에 올 단어를 예측하는 방식으로 작동합니다. 이러한 예측 능력을 통해 텍스트 생성, 번역, 요약 등 다양한 자연어 처리 작업을 수행합니다.\n"
     ]
    }
   ],
   "source": [
    "messages=[\n",
    "    {\"role\": \"system\", \"content\": \"You are a helpful assistant.\"},\n",
    "    {\"role\": \"user\", \"content\": \"LLM은 어떤 원리로 작동하나요? 100자 이내로 설명해주세요.\"},\n",
    "]\n",
    "print(llm.invoke(messages).content)"
   ]
  },
  {
   "cell_type": "code",
   "execution_count": null,
   "metadata": {},
   "outputs": [],
   "source": []
  }
 ],
 "metadata": {
  "kernelspec": {
   "display_name": "llm_analysis",
   "language": "python",
   "name": "python3"
  },
  "language_info": {
   "codemirror_mode": {
    "name": "ipython",
    "version": 3
   },
   "file_extension": ".py",
   "mimetype": "text/x-python",
   "name": "python",
   "nbconvert_exporter": "python",
   "pygments_lexer": "ipython3",
   "version": "3.10.16"
  }
 },
 "nbformat": 4,
 "nbformat_minor": 2
}
